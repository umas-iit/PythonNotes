{
  "nbformat": 4,
  "nbformat_minor": 0,
  "metadata": {
    "anaconda-cloud": {},
    "kernelspec": {
      "display_name": "Python 3",
      "language": "python",
      "name": "python3"
    },
    "language_info": {
      "codemirror_mode": {
        "name": "ipython",
        "version": 3
      },
      "file_extension": ".py",
      "mimetype": "text/x-python",
      "name": "python",
      "nbconvert_exporter": "python",
      "pygments_lexer": "ipython3",
      "version": "3.5.1"
    },
    "colab": {
      "name": "02.06-Boolean-Arrays-and-Masks.ipynb",
      "provenance": [],
      "include_colab_link": true
    }
  },
  "cells": [
    {
      "cell_type": "markdown",
      "metadata": {
        "id": "view-in-github",
        "colab_type": "text"
      },
      "source": [
        "<a href=\"https://colab.research.google.com/github/umas-iit/PythonNotes/blob/main/02.06-Boolean-Arrays-and-Masks.ipynb\" target=\"_parent\"><img src=\"https://colab.research.google.com/assets/colab-badge.svg\" alt=\"Open In Colab\"/></a>"
      ]
    },
    {
      "cell_type": "markdown",
      "metadata": {
        "id": "UVDEh2X3gC87"
      },
      "source": [
        ""
      ]
    },
    {
      "cell_type": "markdown",
      "metadata": {
        "id": "UNKCJv1CgC8-"
      },
      "source": [
        "<!--NAVIGATION-->\n",
        "< [Computation on Arrays: Broadcasting](02.05-Computation-on-arrays-broadcasting.ipynb) | [Contents](Index.ipynb) | [Fancy Indexing](02.07-Fancy-Indexing.ipynb) >\n",
        "\n",
        "<a href=\"https://colab.research.google.com/github/jakevdp/PythonDataScienceHandbook/blob/master/notebooks/02.06-Boolean-Arrays-and-Masks.ipynb\"><img align=\"left\" src=\"https://colab.research.google.com/assets/colab-badge.svg\" alt=\"Open in Colab\" title=\"Open and Execute in Google Colaboratory\"></a>\n"
      ]
    },
    {
      "cell_type": "markdown",
      "metadata": {
        "id": "KTPn7ySegC8-"
      },
      "source": [
        "# Comparisons, Masks, and Boolean Logic"
      ]
    },
    {
      "cell_type": "markdown",
      "metadata": {
        "id": "oBEmfqMEgC8-"
      },
      "source": [
        "This section covers the use of Boolean masks to examine and manipulate values within NumPy arrays.\n",
        "Masking comes up when you want to extract, modify, count, or otherwise manipulate values in an array based on some criterion: for example, you might wish to count all values greater than a certain value, or perhaps remove all outliers that are above some threshold.\n",
        "In NumPy, Boolean masking is often the most efficient way to accomplish these types of tasks."
      ]
    },
    {
      "cell_type": "markdown",
      "metadata": {
        "id": "xMDbXij4gC8_"
      },
      "source": [
        "## Example: Counting Rainy Days\n",
        "\n",
        "Imagine you have a series of data that represents the amount of precipitation each day for a year in a given city.\n",
        "For example, here we'll load the daily rainfall statistics for the city of Seattle in 2014, using Pandas (which is covered in more detail in [Chapter 3](03.00-Introduction-to-Pandas.ipynb)):"
      ]
    },
    {
      "cell_type": "code",
      "metadata": {
        "id": "DESnC7GzgC8_",
        "outputId": "94bee415-e0f5-4c69-ff7d-2d002a16649d"
      },
      "source": [
        "import numpy as np\n",
        "import pandas as pd\n",
        "\n",
        "# use pandas to extract rainfall inches as a NumPy array\n",
        "rainfall = pd.read_csv('data/Seattle2014.csv')['PRCP'].values\n",
        "inches = rainfall / 254.0  # 1/10mm -> inches\n",
        "inches.shape"
      ],
      "execution_count": null,
      "outputs": [
        {
          "output_type": "execute_result",
          "data": {
            "text/plain": [
              "(365,)"
            ]
          },
          "metadata": {
            "tags": []
          },
          "execution_count": 1
        }
      ]
    },
    {
      "cell_type": "markdown",
      "metadata": {
        "id": "KaHZZuVCgC9A"
      },
      "source": [
        "The array contains 365 values, giving daily rainfall in inches from January 1 to December 31, 2014.\n",
        "\n",
        "As a first quick visualization, let's look at the histogram of rainy days, which was generated using Matplotlib (we will explore this tool more fully in [Chapter 4](04.00-Introduction-To-Matplotlib.ipynb)):"
      ]
    },
    {
      "cell_type": "code",
      "metadata": {
        "id": "1uG7YbfbgC9A"
      },
      "source": [
        "%matplotlib inline\n",
        "import matplotlib.pyplot as plt\n",
        "import seaborn; seaborn.set()  # set plot styles"
      ],
      "execution_count": null,
      "outputs": []
    },
    {
      "cell_type": "code",
      "metadata": {
        "id": "Fibe8T-0gC9A",
        "outputId": "8f647389-d2a5-4703-fe9c-aa47bedc0c68"
      },
      "source": [
        "plt.hist(inches, 40);"
      ],
      "execution_count": null,
      "outputs": [
        {
          "output_type": "display_data",
          "data": {
            "image/png": "[encoded data removed]",
            "text/plain": [
              "<matplotlib.figure.Figure at 0x10b617a58>"
            ]
          },
          "metadata": {
            "tags": []
          }
        }
      ]
    },
    {
      "cell_type": "markdown",
      "metadata": {
        "id": "UmlVyXZ7gC9B"
      },
      "source": [
        "This histogram gives us a general idea of what the data looks like: despite its reputation, the vast majority of days in Seattle saw near zero measured rainfall in 2014.\n",
        "But this doesn't do a good job of conveying some information we'd like to see: for example, how many rainy days were there in the year? What is the average precipitation on those rainy days? How many days were there with more than half an inch of rain?"
      ]
    },
    {
      "cell_type": "markdown",
      "metadata": {
        "id": "0OeGz24EgC9B"
      },
      "source": [
        "### Digging into the data\n",
        "\n",
        "One approach to this would be to answer these questions by hand: loop through the data, incrementing a counter each time we see values in some desired range.\n",
        "For reasons discussed throughout this chapter, such an approach is very inefficient, both from the standpoint of time writing code and time computing the result.\n",
        "We saw in [Computation on NumPy Arrays: Universal Functions](02.03-Computation-on-arrays-ufuncs.ipynb) that NumPy's ufuncs can be used in place of loops to do fast element-wise arithmetic operations on arrays; in the same way, we can use other ufuncs to do element-wise *comparisons* over arrays, and we can then manipulate the results to answer the questions we have.\n",
        "We'll leave the data aside for right now, and discuss some general tools in NumPy to use *masking* to quickly answer these types of questions."
      ]
    },
    {
      "cell_type": "markdown",
      "metadata": {
        "id": "Qnptl1PpgC9B"
      },
      "source": [
        "## Comparison Operators as ufuncs\n",
        "\n",
        "In [Computation on NumPy Arrays: Universal Functions](02.03-Computation-on-arrays-ufuncs.ipynb) we introduced ufuncs, and focused in particular on arithmetic operators. We saw that using ``+``, ``-``, ``*``, ``/``, and others on arrays leads to element-wise operations.\n",
        "NumPy also implements comparison operators such as ``<`` (less than) and ``>`` (greater than) as element-wise ufuncs.\n",
        "The result of these comparison operators is always an array with a Boolean data type.\n",
        "All six of the standard comparison operations are available:"
      ]
    },
    {
      "cell_type": "code",
      "metadata": {
        "collapsed": true,
        "id": "CH5OkOtLgC9C"
      },
      "source": [
        "x = np.array([1, 2, 3, 4, 5])"
      ],
      "execution_count": null,
      "outputs": []
    },
    {
      "cell_type": "code",
      "metadata": {
        "id": "RwMjx12agC9C",
        "outputId": "1277150d-6c4c-468b-e24b-0feddadc50f3"
      },
      "source": [
        "x < 3  # less than"
      ],
      "execution_count": null,
      "outputs": [
        {
          "output_type": "execute_result",
          "data": {
            "text/plain": [
              "array([ True,  True, False, False, False], dtype=bool)"
            ]
          },
          "metadata": {
            "tags": []
          },
          "execution_count": 5
        }
      ]
    },
    {
      "cell_type": "code",
      "metadata": {
        "id": "WwAWYZHzgC9C",
        "outputId": "36a4b754-8b5a-4d84-94bc-e535ff72982d"
      },
      "source": [
        "x > 3  # greater than"
      ],
      "execution_count": null,
      "outputs": [
        {
          "output_type": "execute_result",
          "data": {
            "text/plain": [
              "array([False, False, False,  True,  True], dtype=bool)"
            ]
          },
          "metadata": {
            "tags": []
          },
          "execution_count": 6
        }
      ]
    },
    {
      "cell_type": "code",
      "metadata": {
        "id": "OFdH-WcQgC9D",
        "outputId": "5d49aeab-c2bd-454e-f47f-9da03b20f2c5"
      },
      "source": [
        "x <= 3  # less than or equal"
      ],
      "execution_count": null,
      "outputs": [
        {
          "output_type": "execute_result",
          "data": {
            "text/plain": [
              "array([ True,  True,  True, False, False], dtype=bool)"
            ]
          },
          "metadata": {
            "tags": []
          },
          "execution_count": 7
        }
      ]
    },
    {
      "cell_type": "code",
      "metadata": {
        "id": "UpYMAyoagC9D",
        "outputId": "65ca5f73-8ef0-4f39-eac9-033d4e91f9b6"
      },
      "source": [
        "x >= 3  # greater than or equal"
      ],
      "execution_count": null,
      "outputs": [
        {
          "output_type": "execute_result",
          "data": {
            "text/plain": [
              "array([False, False,  True,  True,  True], dtype=bool)"
            ]
          },
          "metadata": {
            "tags": []
          },
          "execution_count": 8
        }
      ]
    },
    {
      "cell_type": "code",
      "metadata": {
        "id": "MI-ebKQTgC9E",
        "outputId": "182f0681-c62e-4f2d-9b87-3c8e7ad75c57"
      },
      "source": [
        "x != 3  # not equal"
      ],
      "execution_count": null,
      "outputs": [
        {
          "output_type": "execute_result",
          "data": {
            "text/plain": [
              "array([ True,  True, False,  True,  True], dtype=bool)"
            ]
          },
          "metadata": {
            "tags": []
          },
          "execution_count": 9
        }
      ]
    },
    {
      "cell_type": "code",
      "metadata": {
        "id": "0IrtJYUcgC9F",
        "outputId": "ded8b9c1-dfcb-4b36-f180-85cf279a3a60"
      },
      "source": [
        "x == 3  # equal"
      ],
      "execution_count": null,
      "outputs": [
        {
          "output_type": "execute_result",
          "data": {
            "text/plain": [
              "array([False, False,  True, False, False], dtype=bool)"
            ]
          },
          "metadata": {
            "tags": []
          },
          "execution_count": 10
        }
      ]
    },
    {
      "cell_type": "markdown",
      "metadata": {
        "id": "qTbYKjV9gC9F"
      },
      "source": [
        "It is also possible to do an element-wise comparison of two arrays, and to include compound expressions:"
      ]
    },
    {
      "cell_type": "code",
      "metadata": {
        "id": "dz_GxyTFgC9F",
        "outputId": "dd64cdd7-baf5-4226-dd13-f527ff8b04af"
      },
      "source": [
        "(2 * x) == (x ** 2)"
      ],
      "execution_count": null,
      "outputs": [
        {
          "output_type": "execute_result",
          "data": {
            "text/plain": [
              "array([False,  True, False, False, False], dtype=bool)"
            ]
          },
          "metadata": {
            "tags": []
          },
          "execution_count": 11
        }
      ]
    },
    {
      "cell_type": "markdown",
      "metadata": {
        "id": "Aw5cj0VtgC9G"
      },
      "source": [
        "As in the case of arithmetic operators, the comparison operators are implemented as ufuncs in NumPy; for example, when you write ``x < 3``, internally NumPy uses ``np.less(x, 3)``.\n",
        "    A summary of the comparison operators and their equivalent ufunc is shown here:\n",
        "\n",
        "| Operator\t    | Equivalent ufunc    || Operator\t   | Equivalent ufunc    |\n",
        "|---------------|---------------------||---------------|---------------------|\n",
        "|``==``         |``np.equal``         ||``!=``         |``np.not_equal``     |\n",
        "|``<``          |``np.less``          ||``<=``         |``np.less_equal``    |\n",
        "|``>``          |``np.greater``       ||``>=``         |``np.greater_equal`` |"
      ]
    },
    {
      "cell_type": "markdown",
      "metadata": {
        "id": "mQFvqWdvgC9G"
      },
      "source": [
        "Just as in the case of arithmetic ufuncs, these will work on arrays of any size and shape.\n",
        "Here is a two-dimensional example:"
      ]
    },
    {
      "cell_type": "code",
      "metadata": {
        "id": "-IpwaqlvgC9G",
        "outputId": "fb563d26-747d-4c81-e81d-693b82d6571b"
      },
      "source": [
        "rng = np.random.RandomState(0)\n",
        "x = rng.randint(10, size=(3, 4))\n",
        "x"
      ],
      "execution_count": null,
      "outputs": [
        {
          "output_type": "execute_result",
          "data": {
            "text/plain": [
              "array([[5, 0, 3, 3],\n",
              "       [7, 9, 3, 5],\n",
              "       [2, 4, 7, 6]])"
            ]
          },
          "metadata": {
            "tags": []
          },
          "execution_count": 12
        }
      ]
    },
    {
      "cell_type": "code",
      "metadata": {
        "id": "267LgnyYgC9H",
        "outputId": "a93a3c76-538b-413a-82ae-f6493955bc90"
      },
      "source": [
        "x < 6"
      ],
      "execution_count": null,
      "outputs": [
        {
          "output_type": "execute_result",
          "data": {
            "text/plain": [
              "array([[ True,  True,  True,  True],\n",
              "       [False, False,  True,  True],\n",
              "       [ True,  True, False, False]], dtype=bool)"
            ]
          },
          "metadata": {
            "tags": []
          },
          "execution_count": 13
        }
      ]
    },
    {
      "cell_type": "markdown",
      "metadata": {
        "id": "khgKxXjZgC9H"
      },
      "source": [
        "In each case, the result is a Boolean array, and NumPy provides a number of straightforward patterns for working with these Boolean results."
      ]
    },
    {
      "cell_type": "markdown",
      "metadata": {
        "id": "73B6sb7JgC9H"
      },
      "source": [
        "## Working with Boolean Arrays\n",
        "\n",
        "Given a Boolean array, there are a host of useful operations you can do.\n",
        "We'll work with ``x``, the two-dimensional array we created earlier."
      ]
    },
    {
      "cell_type": "code",
      "metadata": {
        "id": "22wmQkPhgC9I",
        "outputId": "e81f3efe-29ce-4af4-c176-399da03da00d"
      },
      "source": [
        "print(x)"
      ],
      "execution_count": null,
      "outputs": [
        {
          "output_type": "stream",
          "text": [
            "[[5 0 3 3]\n",
            " [7 9 3 5]\n",
            " [2 4 7 6]]\n"
          ],
          "name": "stdout"
        }
      ]
    },
    {
      "cell_type": "markdown",
      "metadata": {
        "id": "bTXVSNg0gC9I"
      },
      "source": [
        "### Counting entries\n",
        "\n",
        "To count the number of ``True`` entries in a Boolean array, ``np.count_nonzero`` is useful:"
      ]
    },
    {
      "cell_type": "code",
      "metadata": {
        "id": "BmG1HvragC9J",
        "outputId": "51db132c-5142-4a0e-dedc-c1052d71ecdd"
      },
      "source": [
        "# how many values less than 6?\n",
        "np.count_nonzero(x < 6)"
      ],
      "execution_count": null,
      "outputs": [
        {
          "output_type": "execute_result",
          "data": {
            "text/plain": [
              "8"
            ]
          },
          "metadata": {
            "tags": []
          },
          "execution_count": 15
        }
      ]
    },
    {
      "cell_type": "markdown",
      "metadata": {
        "id": "fiqqtgHggC9J"
      },
      "source": [
        "We see that there are eight array entries that are less than 6.\n",
        "Another way to get at this information is to use ``np.sum``; in this case, ``False`` is interpreted as ``0``, and ``True`` is interpreted as ``1``:"
      ]
    },
    {
      "cell_type": "code",
      "metadata": {
        "id": "VeHjl-pUgC9K",
        "outputId": "a64b585d-364e-441d-a70f-1dc516c1a201"
      },
      "source": [
        "np.sum(x < 6)"
      ],
      "execution_count": null,
      "outputs": [
        {
          "output_type": "execute_result",
          "data": {
            "text/plain": [
              "8"
            ]
          },
          "metadata": {
            "tags": []
          },
          "execution_count": 16
        }
      ]
    },
    {
      "cell_type": "markdown",
      "metadata": {
        "id": "7zdcbHEPgC9L"
      },
      "source": [
        "The benefit of ``sum()`` is that like with other NumPy aggregation functions, this summation can be done along rows or columns as well:"
      ]
    },
    {
      "cell_type": "code",
      "metadata": {
        "id": "roS0q-E-gC9M",
        "outputId": "8c5da9d9-a74c-4353-e1fe-8ae7e0e0f4f1"
      },
      "source": [
        "# how many values less than 6 in each row?\n",
        "np.sum(x < 6, axis=1)"
      ],
      "execution_count": null,
      "outputs": [
        {
          "output_type": "execute_result",
          "data": {
            "text/plain": [
              "array([4, 2, 2])"
            ]
          },
          "metadata": {
            "tags": []
          },
          "execution_count": 17
        }
      ]
    },
    {
      "cell_type": "markdown",
      "metadata": {
        "id": "Q2BmjhBigC9N"
      },
      "source": [
        "This counts the number of values less than 6 in each row of the matrix.\n",
        "\n",
        "If we're interested in quickly checking whether any or all the values are true, we can use (you guessed it) ``np.any`` or ``np.all``:"
      ]
    },
    {
      "cell_type": "code",
      "metadata": {
        "id": "buXEBhfBgC9N",
        "outputId": "d7ffa641-0967-454a-e077-70b74e2786cd"
      },
      "source": [
        "# are there any values greater than 8?\n",
        "np.any(x > 8)"
      ],
      "execution_count": null,
      "outputs": [
        {
          "output_type": "execute_result",
          "data": {
            "text/plain": [
              "True"
            ]
          },
          "metadata": {
            "tags": []
          },
          "execution_count": 18
        }
      ]
    },
    {
      "cell_type": "code",
      "metadata": {
        "id": "y3DkLRapgC9O",
        "outputId": "1559b3a1-75b4-4a46-9c57-63cd78050e1b"
      },
      "source": [
        "# are there any values less than zero?\n",
        "np.any(x < 0)"
      ],
      "execution_count": null,
      "outputs": [
        {
          "output_type": "execute_result",
          "data": {
            "text/plain": [
              "False"
            ]
          },
          "metadata": {
            "tags": []
          },
          "execution_count": 19
        }
      ]
    },
    {
      "cell_type": "code",
      "metadata": {
        "id": "Fgd6iMDtgC9O",
        "outputId": "bf9654ab-a9dc-44b1-b29c-6ee8a474cf3c"
      },
      "source": [
        "# are all values less than 10?\n",
        "np.all(x < 10)"
      ],
      "execution_count": null,
      "outputs": [
        {
          "output_type": "execute_result",
          "data": {
            "text/plain": [
              "True"
            ]
          },
          "metadata": {
            "tags": []
          },
          "execution_count": 20
        }
      ]
    },
    {
      "cell_type": "code",
      "metadata": {
        "id": "SfUAyPdmgC9P",
        "outputId": "f8bc9168-35a0-4c29-afea-c03baf269845"
      },
      "source": [
        "# are all values equal to 6?\n",
        "np.all(x == 6)"
      ],
      "execution_count": null,
      "outputs": [
        {
          "output_type": "execute_result",
          "data": {
            "text/plain": [
              "False"
            ]
          },
          "metadata": {
            "tags": []
          },
          "execution_count": 21
        }
      ]
    },
    {
      "cell_type": "markdown",
      "metadata": {
        "id": "HFfr5NcWgC9P"
      },
      "source": [
        "``np.all`` and ``np.any`` can be used along particular axes as well. For example:"
      ]
    },
    {
      "cell_type": "code",
      "metadata": {
        "id": "WbpJHXjLgC9P",
        "outputId": "2d44acaa-966a-4fce-e8d5-e216c3179b09"
      },
      "source": [
        "# are all values in each row less than 8?\n",
        "np.all(x < 8, axis=1)"
      ],
      "execution_count": null,
      "outputs": [
        {
          "output_type": "execute_result",
          "data": {
            "text/plain": [
              "array([ True, False,  True], dtype=bool)"
            ]
          },
          "metadata": {
            "tags": []
          },
          "execution_count": 22
        }
      ]
    },
    {
      "cell_type": "markdown",
      "metadata": {
        "id": "MRqNIeRJgC9Q"
      },
      "source": [
        "Here all the elements in the first and third rows are less than 8, while this is not the case for the second row.\n",
        "\n",
        "Finally, a quick warning: as mentioned in [Aggregations: Min, Max, and Everything In Between](02.04-Computation-on-arrays-aggregates.ipynb), Python has built-in ``sum()``, ``any()``, and ``all()`` functions. These have a different syntax than the NumPy versions, and in particular will fail or produce unintended results when used on multidimensional arrays. Be sure that you are using ``np.sum()``, ``np.any()``, and ``np.all()`` for these examples!"
      ]
    },
    {
      "cell_type": "markdown",
      "metadata": {
        "id": "ncpX5qtcgC9R"
      },
      "source": [
        "### Boolean operators\n",
        "\n",
        "We've already seen how we might count, say, all days with rain less than four inches, or all days with rain greater than two inches.\n",
        "But what if we want to know about all days with rain less than four inches and greater than one inch?\n",
        "This is accomplished through Python's *bitwise logic operators*, ``&``, ``|``, ``^``, and ``~``.\n",
        "Like with the standard arithmetic operators, NumPy overloads these as ufuncs which work element-wise on (usually Boolean) arrays.\n",
        "\n",
        "For example, we can address this sort of compound question as follows:"
      ]
    },
    {
      "cell_type": "code",
      "metadata": {
        "id": "iWGMNQowgC9R",
        "outputId": "09953f19-5367-49f3-81f3-6023475d986a"
      },
      "source": [
        "np.sum((inches > 0.5) & (inches < 1))"
      ],
      "execution_count": null,
      "outputs": [
        {
          "output_type": "execute_result",
          "data": {
            "text/plain": [
              "29"
            ]
          },
          "metadata": {
            "tags": []
          },
          "execution_count": 23
        }
      ]
    },
    {
      "cell_type": "markdown",
      "metadata": {
        "id": "9f9S9an9gC9R"
      },
      "source": [
        "So we see that there are 29 days with rainfall between 0.5 and 1.0 inches.\n",
        "\n",
        "Note that the parentheses here are important–because of operator precedence rules, with parentheses removed this expression would be evaluated as follows, which results in an error:\n",
        "\n",
        "``` python\n",
        "inches > (0.5 & inches) < 1\n",
        "```\n",
        "\n",
        "Using the equivalence of *A AND B* and *NOT (NOT A OR NOT B)* (which you may remember if you've taken an introductory logic course), we can compute the same result in a different manner:"
      ]
    },
    {
      "cell_type": "code",
      "metadata": {
        "id": "SKPvDU_dgC9R",
        "outputId": "121a7a03-a4df-4063-df5a-acb2228f60b8"
      },
      "source": [
        "np.sum(~( (inches <= 0.5) | (inches >= 1) ))"
      ],
      "execution_count": null,
      "outputs": [
        {
          "output_type": "execute_result",
          "data": {
            "text/plain": [
              "29"
            ]
          },
          "metadata": {
            "tags": []
          },
          "execution_count": 24
        }
      ]
    },
    {
      "cell_type": "markdown",
      "metadata": {
        "id": "4uZs381VgC9S"
      },
      "source": [
        "Combining comparison operators and Boolean operators on arrays can lead to a wide range of efficient logical operations.\n",
        "\n",
        "The following table summarizes the bitwise Boolean operators and their equivalent ufuncs:"
      ]
    },
    {
      "cell_type": "markdown",
      "metadata": {
        "id": "mYq2YqkDgC9S"
      },
      "source": [
        "| Operator\t    | Equivalent ufunc    || Operator\t    | Equivalent ufunc    |\n",
        "|---------------|---------------------||---------------|---------------------|\n",
        "|``&``          |``np.bitwise_and``   ||&#124;         |``np.bitwise_or``    |\n",
        "|``^``          |``np.bitwise_xor``   ||``~``          |``np.bitwise_not``   |"
      ]
    },
    {
      "cell_type": "markdown",
      "metadata": {
        "id": "Y8TztIp-gC9S"
      },
      "source": [
        "Using these tools, we might start to answer the types of questions we have about our weather data.\n",
        "Here are some examples of results we can compute when combining masking with aggregations:"
      ]
    },
    {
      "cell_type": "code",
      "metadata": {
        "id": "GjkTcA3kgC9S",
        "outputId": "164b2318-11d8-4a5e-e249-322e28d3102c"
      },
      "source": [
        "print(\"Number days without rain:      \", np.sum(inches == 0))\n",
        "print(\"Number days with rain:         \", np.sum(inches != 0))\n",
        "print(\"Days with more than 0.5 inches:\", np.sum(inches > 0.5))\n",
        "print(\"Rainy days with < 0.2 inches  :\", np.sum((inches > 0) &\n",
        "                                                (inches < 0.2)))"
      ],
      "execution_count": null,
      "outputs": [
        {
          "output_type": "stream",
          "text": [
            "Number days without rain:       215\n",
            "Number days with rain:          150\n",
            "Days with more than 0.5 inches: 37\n",
            "Rainy days with < 0.2 inches  : 75\n"
          ],
          "name": "stdout"
        }
      ]
    },
    {
      "cell_type": "markdown",
      "metadata": {
        "id": "a3U8EJ3YgC9S"
      },
      "source": [
        "## Boolean Arrays as Masks\n",
        "\n",
        "In the preceding section we looked at aggregates computed directly on Boolean arrays.\n",
        "A more powerful pattern is to use Boolean arrays as masks, to select particular subsets of the data themselves.\n",
        "Returning to our ``x`` array from before, suppose we want an array of all values in the array that are less than, say, 5:"
      ]
    },
    {
      "cell_type": "code",
      "metadata": {
        "id": "1QL1bnFNgC9S",
        "outputId": "d9920cb8-a7e2-43a6-8a78-571b44102b7d"
      },
      "source": [
        "x"
      ],
      "execution_count": null,
      "outputs": [
        {
          "output_type": "execute_result",
          "data": {
            "text/plain": [
              "array([[5, 0, 3, 3],\n",
              "       [7, 9, 3, 5],\n",
              "       [2, 4, 7, 6]])"
            ]
          },
          "metadata": {
            "tags": []
          },
          "execution_count": 26
        }
      ]
    },
    {
      "cell_type": "markdown",
      "metadata": {
        "id": "8PIb17mogC9T"
      },
      "source": [
        "We can obtain a Boolean array for this condition easily, as we've already seen:"
      ]
    },
    {
      "cell_type": "code",
      "metadata": {
        "id": "rK8VXFd-gC9T",
        "outputId": "4d9e344c-c977-4e4a-a57e-c409e266b619"
      },
      "source": [
        "x < 5"
      ],
      "execution_count": null,
      "outputs": [
        {
          "output_type": "execute_result",
          "data": {
            "text/plain": [
              "array([[False,  True,  True,  True],\n",
              "       [False, False,  True, False],\n",
              "       [ True,  True, False, False]], dtype=bool)"
            ]
          },
          "metadata": {
            "tags": []
          },
          "execution_count": 27
        }
      ]
    },
    {
      "cell_type": "markdown",
      "metadata": {
        "id": "47AItFzkgC9T"
      },
      "source": [
        "Now to *select* these values from the array, we can simply index on this Boolean array; this is known as a *masking* operation:"
      ]
    },
    {
      "cell_type": "code",
      "metadata": {
        "id": "dgpb19szgC9T",
        "outputId": "5884e47d-2125-40b7-8652-b2ecb884468a"
      },
      "source": [
        "x[x < 5]"
      ],
      "execution_count": null,
      "outputs": [
        {
          "output_type": "execute_result",
          "data": {
            "text/plain": [
              "array([0, 3, 3, 3, 2, 4])"
            ]
          },
          "metadata": {
            "tags": []
          },
          "execution_count": 28
        }
      ]
    },
    {
      "cell_type": "markdown",
      "metadata": {
        "id": "LjBDbgpmgC9T"
      },
      "source": [
        "What is returned is a one-dimensional array filled with all the values that meet this condition; in other words, all the values in positions at which the mask array is ``True``.\n",
        "\n",
        "We are then free to operate on these values as we wish.\n",
        "For example, we can compute some relevant statistics on our Seattle rain data:"
      ]
    },
    {
      "cell_type": "code",
      "metadata": {
        "id": "2gk1gkmEgC9T",
        "outputId": "a881ed62-a8f2-485a-ca44-84c03e92952d"
      },
      "source": [
        "# construct a mask of all rainy days\n",
        "rainy = (inches > 0)\n",
        "\n",
        "# construct a mask of all summer days (June 21st is the 172nd day)\n",
        "days = np.arange(365)\n",
        "summer = (days > 172) & (days < 262)\n",
        "\n",
        "print(\"Median precip on rainy days in 2014 (inches):   \",\n",
        "      np.median(inches[rainy]))\n",
        "print(\"Median precip on summer days in 2014 (inches):  \",\n",
        "      np.median(inches[summer]))\n",
        "print(\"Maximum precip on summer days in 2014 (inches): \",\n",
        "      np.max(inches[summer]))\n",
        "print(\"Median precip on non-summer rainy days (inches):\",\n",
        "      np.median(inches[rainy & ~summer]))"
      ],
      "execution_count": null,
      "outputs": [
        {
          "output_type": "stream",
          "text": [
            "Median precip on rainy days in 2014 (inches):    0.194881889764\n",
            "Median precip on summer days in 2014 (inches):   0.0\n",
            "Maximum precip on summer days in 2014 (inches):  0.850393700787\n",
            "Median precip on non-summer rainy days (inches): 0.200787401575\n"
          ],
          "name": "stdout"
        }
      ]
    },
    {
      "cell_type": "markdown",
      "metadata": {
        "id": "H_LN6dKpgC9U"
      },
      "source": [
        "By combining Boolean operations, masking operations, and aggregates, we can very quickly answer these sorts of questions for our dataset."
      ]
    },
    {
      "cell_type": "markdown",
      "metadata": {
        "id": "65f91WcCgC9U"
      },
      "source": [
        "## Aside: Using the Keywords and/or Versus the Operators &/|\n",
        "\n",
        "One common point of confusion is the difference between the keywords ``and`` and ``or`` on one hand, and the operators ``&`` and ``|`` on the other hand.\n",
        "When would you use one versus the other?\n",
        "\n",
        "The difference is this: ``and`` and ``or`` gauge the truth or falsehood of *entire object*, while ``&`` and ``|`` refer to *bits within each object*.\n",
        "\n",
        "When you use ``and`` or ``or``, it's equivalent to asking Python to treat the object as a single Boolean entity.\n",
        "In Python, all nonzero integers will evaluate as True. Thus:"
      ]
    },
    {
      "cell_type": "code",
      "metadata": {
        "id": "7zPn1cVwgC9U",
        "outputId": "4ed6e775-412c-4362-a3d9-be4bd444b8b1"
      },
      "source": [
        "bool(42), bool(0)"
      ],
      "execution_count": null,
      "outputs": [
        {
          "output_type": "execute_result",
          "data": {
            "text/plain": [
              "(True, False)"
            ]
          },
          "metadata": {
            "tags": []
          },
          "execution_count": 30
        }
      ]
    },
    {
      "cell_type": "code",
      "metadata": {
        "id": "scFL6wq6gC9U",
        "outputId": "01dca00d-06f0-4217-c4ad-278cd9c3b44e"
      },
      "source": [
        "bool(42 and 0)"
      ],
      "execution_count": null,
      "outputs": [
        {
          "output_type": "execute_result",
          "data": {
            "text/plain": [
              "False"
            ]
          },
          "metadata": {
            "tags": []
          },
          "execution_count": 31
        }
      ]
    },
    {
      "cell_type": "code",
      "metadata": {
        "id": "YdyqyMhwgC9U",
        "outputId": "0dc4422f-1ccc-4ad9-d09c-1d2dae8bcb19"
      },
      "source": [
        "bool(42 or 0)"
      ],
      "execution_count": null,
      "outputs": [
        {
          "output_type": "execute_result",
          "data": {
            "text/plain": [
              "True"
            ]
          },
          "metadata": {
            "tags": []
          },
          "execution_count": 32
        }
      ]
    },
    {
      "cell_type": "markdown",
      "metadata": {
        "id": "CJHHBTkvgC9V"
      },
      "source": [
        "When you use ``&`` and ``|`` on integers, the expression operates on the bits of the element, applying the *and* or the *or* to the individual bits making up the number:"
      ]
    },
    {
      "cell_type": "code",
      "metadata": {
        "id": "BEWzdFx3gC9V",
        "outputId": "ab141233-1996-4331-bacd-cc32e0b8ca87"
      },
      "source": [
        "bin(42)"
      ],
      "execution_count": null,
      "outputs": [
        {
          "output_type": "execute_result",
          "data": {
            "text/plain": [
              "'0b101010'"
            ]
          },
          "metadata": {
            "tags": []
          },
          "execution_count": 33
        }
      ]
    },
    {
      "cell_type": "code",
      "metadata": {
        "id": "8CwobZQLgC9V",
        "outputId": "ab75a54f-8198-47fc-984a-ce13e036d45e"
      },
      "source": [
        "bin(59)"
      ],
      "execution_count": null,
      "outputs": [
        {
          "output_type": "execute_result",
          "data": {
            "text/plain": [
              "'0b111011'"
            ]
          },
          "metadata": {
            "tags": []
          },
          "execution_count": 34
        }
      ]
    },
    {
      "cell_type": "code",
      "metadata": {
        "id": "cxnhlPMQgC9V",
        "outputId": "eb598603-ef26-4f7f-ed1a-fb5abca242d3"
      },
      "source": [
        "bin(42 & 59)"
      ],
      "execution_count": null,
      "outputs": [
        {
          "output_type": "execute_result",
          "data": {
            "text/plain": [
              "'0b101010'"
            ]
          },
          "metadata": {
            "tags": []
          },
          "execution_count": 35
        }
      ]
    },
    {
      "cell_type": "code",
      "metadata": {
        "id": "5T1JwRGBgC9V",
        "outputId": "37afa9b4-36e2-456d-f470-c79070812d83"
      },
      "source": [
        "bin(42 | 59)"
      ],
      "execution_count": null,
      "outputs": [
        {
          "output_type": "execute_result",
          "data": {
            "text/plain": [
              "'0b111011'"
            ]
          },
          "metadata": {
            "tags": []
          },
          "execution_count": 36
        }
      ]
    },
    {
      "cell_type": "markdown",
      "metadata": {
        "id": "tJcXag5jgC9V"
      },
      "source": [
        "Notice that the corresponding bits of the binary representation are compared in order to yield the result.\n",
        "\n",
        "When you have an array of Boolean values in NumPy, this can be thought of as a string of bits where ``1 = True`` and ``0 = False``, and the result of ``&`` and ``|`` operates similarly to above:"
      ]
    },
    {
      "cell_type": "code",
      "metadata": {
        "id": "SyYZruJ0gC9W",
        "outputId": "68d3af8f-5d01-4553-a852-39a3acb45c13"
      },
      "source": [
        "A = np.array([1, 0, 1, 0, 1, 0], dtype=bool)\n",
        "B = np.array([1, 1, 1, 0, 1, 1], dtype=bool)\n",
        "A | B"
      ],
      "execution_count": null,
      "outputs": [
        {
          "output_type": "execute_result",
          "data": {
            "text/plain": [
              "array([ True,  True,  True, False,  True,  True], dtype=bool)"
            ]
          },
          "metadata": {
            "tags": []
          },
          "execution_count": 37
        }
      ]
    },
    {
      "cell_type": "markdown",
      "metadata": {
        "id": "yDF9d29wgC9W"
      },
      "source": [
        "Using ``or`` on these arrays will try to evaluate the truth or falsehood of the entire array object, which is not a well-defined value:"
      ]
    },
    {
      "cell_type": "code",
      "metadata": {
        "id": "8xvqtrksgC9W",
        "outputId": "71c68acd-94eb-431d-de33-5d4320365602"
      },
      "source": [
        "A or B"
      ],
      "execution_count": null,
      "outputs": [
        {
          "output_type": "error",
          "ename": "ValueError",
          "evalue": "The truth value of an array with more than one element is ambiguous. Use a.any() or a.all()",
          "traceback": [
            "\u001b[0;31m---------------------------------------------------------------------------\u001b[0m",
            "\u001b[0;31mValueError\u001b[0m                                Traceback (most recent call last)",
            "\u001b[0;32m<ipython-input-38-5d8e4f2e21c0>\u001b[0m in \u001b[0;36m<module>\u001b[0;34m()\u001b[0m\n\u001b[0;32m----> 1\u001b[0;31m \u001b[0mA\u001b[0m \u001b[0;32mor\u001b[0m \u001b[0mB\u001b[0m\u001b[0;34m\u001b[0m\u001b[0m\n\u001b[0m",
            "\u001b[0;31mValueError\u001b[0m: The truth value of an array with more than one element is ambiguous. Use a.any() or a.all()"
          ]
        }
      ]
    },
    {
      "cell_type": "markdown",
      "metadata": {
        "id": "6kOmLzqcgC9W"
      },
      "source": [
        "Similarly, when doing a Boolean expression on a given array, you should use ``|`` or ``&`` rather than ``or`` or ``and``:"
      ]
    },
    {
      "cell_type": "code",
      "metadata": {
        "id": "UDQOwjwKgC9W",
        "outputId": "d92b38ee-bf96-481c-e12c-d6a8b4cb3959"
      },
      "source": [
        "x = np.arange(10)\n",
        "(x > 4) & (x < 8)"
      ],
      "execution_count": null,
      "outputs": [
        {
          "output_type": "execute_result",
          "data": {
            "text/plain": [
              "array([False, False, False, False, False,  True,  True,  True, False, False], dtype=bool)"
            ]
          },
          "metadata": {
            "tags": []
          },
          "execution_count": 39
        }
      ]
    },
    {
      "cell_type": "markdown",
      "metadata": {
        "id": "VWZAdCGUgC9W"
      },
      "source": [
        "Trying to evaluate the truth or falsehood of the entire array will give the same ``ValueError`` we saw previously:"
      ]
    },
    {
      "cell_type": "code",
      "metadata": {
        "id": "cLVJaiedgC9X",
        "outputId": "c79f0a4e-c183-4576-d821-cc968950dc4f"
      },
      "source": [
        "(x > 4) and (x < 8)"
      ],
      "execution_count": null,
      "outputs": [
        {
          "output_type": "error",
          "ename": "ValueError",
          "evalue": "The truth value of an array with more than one element is ambiguous. Use a.any() or a.all()",
          "traceback": [
            "\u001b[0;31m---------------------------------------------------------------------------\u001b[0m",
            "\u001b[0;31mValueError\u001b[0m                                Traceback (most recent call last)",
            "\u001b[0;32m<ipython-input-40-3d24f1ffd63d>\u001b[0m in \u001b[0;36m<module>\u001b[0;34m()\u001b[0m\n\u001b[0;32m----> 1\u001b[0;31m \u001b[0;34m(\u001b[0m\u001b[0mx\u001b[0m \u001b[0;34m>\u001b[0m \u001b[0;36m4\u001b[0m\u001b[0;34m)\u001b[0m \u001b[0;32mand\u001b[0m \u001b[0;34m(\u001b[0m\u001b[0mx\u001b[0m \u001b[0;34m<\u001b[0m \u001b[0;36m8\u001b[0m\u001b[0;34m)\u001b[0m\u001b[0;34m\u001b[0m\u001b[0m\n\u001b[0m",
            "\u001b[0;31mValueError\u001b[0m: The truth value of an array with more than one element is ambiguous. Use a.any() or a.all()"
          ]
        }
      ]
    },
    {
      "cell_type": "markdown",
      "metadata": {
        "id": "1ln0L_OQgC9X"
      },
      "source": [
        "So remember this: ``and`` and ``or`` perform a single Boolean evaluation on an entire object, while ``&`` and ``|`` perform multiple Boolean evaluations on the content (the individual bits or bytes) of an object.\n",
        "For Boolean NumPy arrays, the latter is nearly always the desired operation."
      ]
    },
    {
      "cell_type": "markdown",
      "metadata": {
        "id": "ybQj9QahgC9X"
      },
      "source": [
        "<!--NAVIGATION-->\n",
        "< [Computation on Arrays: Broadcasting](02.05-Computation-on-arrays-broadcasting.ipynb) | [Contents](Index.ipynb) | [Fancy Indexing](02.07-Fancy-Indexing.ipynb) >\n",
        "\n",
        "<a href=\"https://colab.research.google.com/github/jakevdp/PythonDataScienceHandbook/blob/master/notebooks/02.06-Boolean-Arrays-and-Masks.ipynb\"><img align=\"left\" src=\"https://colab.research.google.com/assets/colab-badge.svg\" alt=\"Open in Colab\" title=\"Open and Execute in Google Colaboratory\"></a>\n"
      ]
    }
  ]
}