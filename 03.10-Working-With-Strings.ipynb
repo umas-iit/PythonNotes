{
  "nbformat": 4,
  "nbformat_minor": 0,
  "metadata": {
    "anaconda-cloud": {},
    "kernelspec": {
      "display_name": "Python 3",
      "language": "python",
      "name": "python3"
    },
    "language_info": {
      "codemirror_mode": {
        "name": "ipython",
        "version": 3
      },
      "file_extension": ".py",
      "mimetype": "text/x-python",
      "name": "python",
      "nbconvert_exporter": "python",
      "pygments_lexer": "ipython3",
      "version": "3.5.1"
    },
    "colab": {
      "name": "03.10-Working-With-Strings.ipynb",
      "provenance": [],
      "include_colab_link": true
    }
  },
  "cells": [
    {
      "cell_type": "markdown",
      "metadata": {
        "id": "view-in-github",
        "colab_type": "text"
      },
      "source": [
        "<a href=\"https://colab.research.google.com/github/umas-iit/PythonNotes/blob/main/03.10-Working-With-Strings.ipynb\" target=\"_parent\"><img src=\"https://colab.research.google.com/assets/colab-badge.svg\" alt=\"Open In Colab\"/></a>"
      ]
    },
    {
      "cell_type": "markdown",
      "metadata": {
        "id": "MpHZln2bmLKh"
      },
      "source": [
        ""
      ]
    },
    {
      "cell_type": "markdown",
      "metadata": {
        "id": "ofAIe3-CmLKl"
      },
      "source": [
        "<!--NAVIGATION-->\n",
        "< [Pivot Tables](03.09-Pivot-Tables.ipynb) | [Contents](Index.ipynb) | [Working with Time Series](03.11-Working-with-Time-Series.ipynb) >\n",
        "\n",
        "<a href=\"https://colab.research.google.com/github/jakevdp/PythonDataScienceHandbook/blob/master/notebooks/03.10-Working-With-Strings.ipynb\"><img align=\"left\" src=\"https://colab.research.google.com/assets/colab-badge.svg\" alt=\"Open in Colab\" title=\"Open and Execute in Google Colaboratory\"></a>\n"
      ]
    },
    {
      "cell_type": "markdown",
      "metadata": {
        "id": "xy-JAnZsmLKl"
      },
      "source": [
        "# Vectorized String Operations"
      ]
    },
    {
      "cell_type": "markdown",
      "metadata": {
        "id": "wqWXIfGRmLKm"
      },
      "source": [
        "One strength of Python is its relative ease in handling and manipulating string data.\n",
        "Pandas builds on this and provides a comprehensive set of *vectorized string operations* that become an essential piece of the type of munging required when working with (read: cleaning up) real-world data.\n",
        "In this section, we'll walk through some of the Pandas string operations, and then take a look at using them to partially clean up a very messy dataset of recipes collected from the Internet."
      ]
    },
    {
      "cell_type": "markdown",
      "metadata": {
        "id": "-bnVwFoQmLKn"
      },
      "source": [
        "## Introducing Pandas String Operations\n",
        "\n",
        "We saw in previous sections how tools like NumPy and Pandas generalize arithmetic operations so that we can easily and quickly perform the same operation on many array elements. For example:"
      ]
    },
    {
      "cell_type": "code",
      "metadata": {
        "id": "HoBckd09mLKn",
        "outputId": "f6eba0d9-97c9-4214-a510-a258077bd60d"
      },
      "source": [
        "import numpy as np\n",
        "x = np.array([2, 3, 5, 7, 11, 13])\n",
        "x * 2"
      ],
      "execution_count": null,
      "outputs": [
        {
          "output_type": "execute_result",
          "data": {
            "text/plain": [
              "array([ 4,  6, 10, 14, 22, 26])"
            ]
          },
          "metadata": {
            "tags": []
          },
          "execution_count": 1
        }
      ]
    },
    {
      "cell_type": "markdown",
      "metadata": {
        "id": "omtbjbHBmLKp"
      },
      "source": [
        "This *vectorization* of operations simplifies the syntax of operating on arrays of data: we no longer have to worry about the size or shape of the array, but just about what operation we want done.\n",
        "For arrays of strings, NumPy does not provide such simple access, and thus you're stuck using a more verbose loop syntax:"
      ]
    },
    {
      "cell_type": "code",
      "metadata": {
        "id": "-a5CoXeHmLKq",
        "outputId": "46e586ab-c8f0-4a67-e9c9-74fec2f31959"
      },
      "source": [
        "data = ['peter', 'Paul', 'MARY', 'gUIDO']\n",
        "[s.capitalize() for s in data]"
      ],
      "execution_count": null,
      "outputs": [
        {
          "output_type": "execute_result",
          "data": {
            "text/plain": [
              "['Peter', 'Paul', 'Mary', 'Guido']"
            ]
          },
          "metadata": {
            "tags": []
          },
          "execution_count": 2
        }
      ]
    },
    {
      "cell_type": "markdown",
      "metadata": {
        "id": "HVOLYoLrmLKr"
      },
      "source": [
        "This is perhaps sufficient to work with some data, but it will break if there are any missing values.\n",
        "For example:"
      ]
    },
    {
      "cell_type": "code",
      "metadata": {
        "id": "c-o64-nZmLKr",
        "outputId": "4617c127-bcd7-4988-9acd-46db5a0d8015"
      },
      "source": [
        "data = ['peter', 'Paul', None, 'MARY', 'gUIDO']\n",
        "[s.capitalize() for s in data]"
      ],
      "execution_count": null,
      "outputs": [
        {
          "output_type": "error",
          "ename": "AttributeError",
          "evalue": "'NoneType' object has no attribute 'capitalize'",
          "traceback": [
            "\u001b[0;31m---------------------------------------------------------------------------\u001b[0m",
            "\u001b[0;31mAttributeError\u001b[0m                            Traceback (most recent call last)",
            "\u001b[0;32m<ipython-input-3-fc1d891ab539>\u001b[0m in \u001b[0;36m<module>\u001b[0;34m()\u001b[0m\n\u001b[1;32m      1\u001b[0m \u001b[0mdata\u001b[0m \u001b[0;34m=\u001b[0m \u001b[0;34m[\u001b[0m\u001b[0;34m'peter'\u001b[0m\u001b[0;34m,\u001b[0m \u001b[0;34m'Paul'\u001b[0m\u001b[0;34m,\u001b[0m \u001b[0;32mNone\u001b[0m\u001b[0;34m,\u001b[0m \u001b[0;34m'MARY'\u001b[0m\u001b[0;34m,\u001b[0m \u001b[0;34m'gUIDO'\u001b[0m\u001b[0;34m]\u001b[0m\u001b[0;34m\u001b[0m\u001b[0m\n\u001b[0;32m----> 2\u001b[0;31m \u001b[0;34m[\u001b[0m\u001b[0ms\u001b[0m\u001b[0;34m.\u001b[0m\u001b[0mcapitalize\u001b[0m\u001b[0;34m(\u001b[0m\u001b[0;34m)\u001b[0m \u001b[0;32mfor\u001b[0m \u001b[0ms\u001b[0m \u001b[0;32min\u001b[0m \u001b[0mdata\u001b[0m\u001b[0;34m]\u001b[0m\u001b[0;34m\u001b[0m\u001b[0m\n\u001b[0m",
            "\u001b[0;32m<ipython-input-3-fc1d891ab539>\u001b[0m in \u001b[0;36m<listcomp>\u001b[0;34m(.0)\u001b[0m\n\u001b[1;32m      1\u001b[0m \u001b[0mdata\u001b[0m \u001b[0;34m=\u001b[0m \u001b[0;34m[\u001b[0m\u001b[0;34m'peter'\u001b[0m\u001b[0;34m,\u001b[0m \u001b[0;34m'Paul'\u001b[0m\u001b[0;34m,\u001b[0m \u001b[0;32mNone\u001b[0m\u001b[0;34m,\u001b[0m \u001b[0;34m'MARY'\u001b[0m\u001b[0;34m,\u001b[0m \u001b[0;34m'gUIDO'\u001b[0m\u001b[0;34m]\u001b[0m\u001b[0;34m\u001b[0m\u001b[0m\n\u001b[0;32m----> 2\u001b[0;31m \u001b[0;34m[\u001b[0m\u001b[0ms\u001b[0m\u001b[0;34m.\u001b[0m\u001b[0mcapitalize\u001b[0m\u001b[0;34m(\u001b[0m\u001b[0;34m)\u001b[0m \u001b[0;32mfor\u001b[0m \u001b[0ms\u001b[0m \u001b[0;32min\u001b[0m \u001b[0mdata\u001b[0m\u001b[0;34m]\u001b[0m\u001b[0;34m\u001b[0m\u001b[0m\n\u001b[0m",
            "\u001b[0;31mAttributeError\u001b[0m: 'NoneType' object has no attribute 'capitalize'"
          ]
        }
      ]
    },
    {
      "cell_type": "markdown",
      "metadata": {
        "id": "k77-hXDCmLKs"
      },
      "source": [
        "Pandas includes features to address both this need for vectorized string operations and for correctly handling missing data via the ``str`` attribute of Pandas Series and Index objects containing strings.\n",
        "So, for example, suppose we create a Pandas Series with this data:"
      ]
    },
    {
      "cell_type": "code",
      "metadata": {
        "id": "7R0iPyOcmLKu",
        "outputId": "f764ca8a-9225-4d6b-a21c-242ded3051fe"
      },
      "source": [
        "import pandas as pd\n",
        "names = pd.Series(data)\n",
        "names"
      ],
      "execution_count": null,
      "outputs": [
        {
          "output_type": "execute_result",
          "data": {
            "text/plain": [
              "0    peter\n",
              "1     Paul\n",
              "2     None\n",
              "3     MARY\n",
              "4    gUIDO\n",
              "dtype: object"
            ]
          },
          "metadata": {
            "tags": []
          },
          "execution_count": 4
        }
      ]
    },
    {
      "cell_type": "markdown",
      "metadata": {
        "id": "isKI9hb-mLKu"
      },
      "source": [
        "We can now call a single method that will capitalize all the entries, while skipping over any missing values:"
      ]
    },
    {
      "cell_type": "code",
      "metadata": {
        "id": "PCupH3QgmLKv",
        "outputId": "7dc56b51-0052-4c42-84e6-4fed230ee42f"
      },
      "source": [
        "names.str.capitalize()"
      ],
      "execution_count": null,
      "outputs": [
        {
          "output_type": "execute_result",
          "data": {
            "text/plain": [
              "0    Peter\n",
              "1     Paul\n",
              "2     None\n",
              "3     Mary\n",
              "4    Guido\n",
              "dtype: object"
            ]
          },
          "metadata": {
            "tags": []
          },
          "execution_count": 5
        }
      ]
    },
    {
      "cell_type": "markdown",
      "metadata": {
        "id": "jQuGLWIXmLKy"
      },
      "source": [
        "Using tab completion on this ``str`` attribute will list all the vectorized string methods available to Pandas."
      ]
    },
    {
      "cell_type": "markdown",
      "metadata": {
        "id": "RcVE49lSmLMy"
      },
      "source": [
        "## Tables of Pandas String Methods\n",
        "\n",
        "If you have a good understanding of string manipulation in Python, most of Pandas string syntax is intuitive enough that it's probably sufficient to just list a table of available methods; we will start with that here, before diving deeper into a few of the subtleties.\n",
        "The examples in this section use the following series of names:"
      ]
    },
    {
      "cell_type": "code",
      "metadata": {
        "collapsed": true,
        "id": "TFNKzJF-mLMz"
      },
      "source": [
        "monte = pd.Series(['Graham Chapman', 'John Cleese', 'Terry Gilliam',\n",
        "                   'Eric Idle', 'Terry Jones', 'Michael Palin'])"
      ],
      "execution_count": null,
      "outputs": []
    },
    {
      "cell_type": "markdown",
      "metadata": {
        "id": "3IWoslKBmLMz"
      },
      "source": [
        "### Methods similar to Python string methods\n",
        "Nearly all Python's built-in string methods are mirrored by a Pandas vectorized string method. Here is a list of Pandas ``str`` methods that mirror Python string methods:\n",
        "\n",
        "|             |                  |                  |                  |\n",
        "|-------------|------------------|------------------|------------------|\n",
        "|``len()``    | ``lower()``      | ``translate()``  | ``islower()``    | \n",
        "|``ljust()``  | ``upper()``      | ``startswith()`` | ``isupper()``    | \n",
        "|``rjust()``  | ``find()``       | ``endswith()``   | ``isnumeric()``  | \n",
        "|``center()`` | ``rfind()``      | ``isalnum()``    | ``isdecimal()``  | \n",
        "|``zfill()``  | ``index()``      | ``isalpha()``    | ``split()``      | \n",
        "|``strip()``  | ``rindex()``     | ``isdigit()``    | ``rsplit()``     | \n",
        "|``rstrip()`` | ``capitalize()`` | ``isspace()``    | ``partition()``  | \n",
        "|``lstrip()`` |  ``swapcase()``  |  ``istitle()``   | ``rpartition()`` |\n",
        "\n",
        "Notice that these have various return values. Some, like ``lower()``, return a series of strings:"
      ]
    },
    {
      "cell_type": "code",
      "metadata": {
        "id": "75csRBRgmLM0",
        "outputId": "a54e3aa8-eb35-4a4b-9ee9-2a7786746d1c"
      },
      "source": [
        "monte.str.lower()"
      ],
      "execution_count": null,
      "outputs": [
        {
          "output_type": "execute_result",
          "data": {
            "text/plain": [
              "0    graham chapman\n",
              "1       john cleese\n",
              "2     terry gilliam\n",
              "3         eric idle\n",
              "4       terry jones\n",
              "5     michael palin\n",
              "dtype: object"
            ]
          },
          "metadata": {
            "tags": []
          },
          "execution_count": 7
        }
      ]
    },
    {
      "cell_type": "markdown",
      "metadata": {
        "id": "Ooty5gOtmLM1"
      },
      "source": [
        "But some others return numbers:"
      ]
    },
    {
      "cell_type": "code",
      "metadata": {
        "id": "eTrGCoUemLM1",
        "outputId": "c4f31507-dca8-48b3-d186-8a6c1ea03b90"
      },
      "source": [
        "monte.str.len()"
      ],
      "execution_count": null,
      "outputs": [
        {
          "output_type": "execute_result",
          "data": {
            "text/plain": [
              "0    14\n",
              "1    11\n",
              "2    13\n",
              "3     9\n",
              "4    11\n",
              "5    13\n",
              "dtype: int64"
            ]
          },
          "metadata": {
            "tags": []
          },
          "execution_count": 8
        }
      ]
    },
    {
      "cell_type": "markdown",
      "metadata": {
        "id": "M0tcJESTmLM1"
      },
      "source": [
        "Or Boolean values:"
      ]
    },
    {
      "cell_type": "code",
      "metadata": {
        "id": "rNjs9P7vmLM2",
        "outputId": "a95bc0ad-c408-4a87-9dc5-8ffb4bbeb2db"
      },
      "source": [
        "monte.str.startswith('T')"
      ],
      "execution_count": null,
      "outputs": [
        {
          "output_type": "execute_result",
          "data": {
            "text/plain": [
              "0    False\n",
              "1    False\n",
              "2     True\n",
              "3    False\n",
              "4     True\n",
              "5    False\n",
              "dtype: bool"
            ]
          },
          "metadata": {
            "tags": []
          },
          "execution_count": 9
        }
      ]
    },
    {
      "cell_type": "markdown",
      "metadata": {
        "id": "JfL_BrWKmLM2"
      },
      "source": [
        "Still others return lists or other compound values for each element:"
      ]
    },
    {
      "cell_type": "code",
      "metadata": {
        "id": "r2I60XThmLM2",
        "outputId": "85b97560-cfc7-4610-cc51-37092b793e6a"
      },
      "source": [
        "monte.str.split()"
      ],
      "execution_count": null,
      "outputs": [
        {
          "output_type": "execute_result",
          "data": {
            "text/plain": [
              "0    [Graham, Chapman]\n",
              "1       [John, Cleese]\n",
              "2     [Terry, Gilliam]\n",
              "3         [Eric, Idle]\n",
              "4       [Terry, Jones]\n",
              "5     [Michael, Palin]\n",
              "dtype: object"
            ]
          },
          "metadata": {
            "tags": []
          },
          "execution_count": 10
        }
      ]
    },
    {
      "cell_type": "markdown",
      "metadata": {
        "id": "fpngxVuxmLM3"
      },
      "source": [
        "We'll see further manipulations of this kind of series-of-lists object as we continue our discussion."
      ]
    },
    {
      "cell_type": "markdown",
      "metadata": {
        "id": "uomhz-NumLM3"
      },
      "source": [
        "### Methods using regular expressions\n",
        "\n",
        "In addition, there are several methods that accept regular expressions to examine the content of each string element, and follow some of the API conventions of Python's built-in ``re`` module:\n",
        "\n",
        "| Method | Description |\n",
        "|--------|-------------|\n",
        "| ``match()`` | Call ``re.match()`` on each element, returning a boolean. |\n",
        "| ``extract()`` | Call ``re.match()`` on each element, returning matched groups as strings.|\n",
        "| ``findall()`` | Call ``re.findall()`` on each element |\n",
        "| ``replace()`` | Replace occurrences of pattern with some other string|\n",
        "| ``contains()`` | Call ``re.search()`` on each element, returning a boolean |\n",
        "| ``count()`` | Count occurrences of pattern|\n",
        "| ``split()``   | Equivalent to ``str.split()``, but accepts regexps |\n",
        "| ``rsplit()`` | Equivalent to ``str.rsplit()``, but accepts regexps |"
      ]
    },
    {
      "cell_type": "markdown",
      "metadata": {
        "id": "3e8tSBHBmLM4"
      },
      "source": [
        "With these, you can do a wide range of interesting operations.\n",
        "For example, we can extract the first name from each by asking for a contiguous group of characters at the beginning of each element:"
      ]
    },
    {
      "cell_type": "code",
      "metadata": {
        "id": "Eyb4Y8fjmLM4",
        "outputId": "8f88772b-8d52-49c8-de82-8e13937b811a"
      },
      "source": [
        "monte.str.extract('([A-Za-z]+)', expand=False)"
      ],
      "execution_count": null,
      "outputs": [
        {
          "output_type": "execute_result",
          "data": {
            "text/plain": [
              "0     Graham\n",
              "1       John\n",
              "2      Terry\n",
              "3       Eric\n",
              "4      Terry\n",
              "5    Michael\n",
              "dtype: object"
            ]
          },
          "metadata": {
            "tags": []
          },
          "execution_count": 11
        }
      ]
    },
    {
      "cell_type": "markdown",
      "metadata": {
        "id": "n6Lb0PZEmLM5"
      },
      "source": [
        "Or we can do something more complicated, like finding all names that start and end with a consonant, making use of the start-of-string (``^``) and end-of-string (``$``) regular expression characters:"
      ]
    },
    {
      "cell_type": "code",
      "metadata": {
        "id": "QCL0U-cRmLM5",
        "outputId": "eeddd231-5ff9-471f-80ac-32bd3b05f382"
      },
      "source": [
        "monte.str.findall(r'^[^AEIOU].*[^aeiou]$')"
      ],
      "execution_count": null,
      "outputs": [
        {
          "output_type": "execute_result",
          "data": {
            "text/plain": [
              "0    [Graham Chapman]\n",
              "1                  []\n",
              "2     [Terry Gilliam]\n",
              "3                  []\n",
              "4       [Terry Jones]\n",
              "5     [Michael Palin]\n",
              "dtype: object"
            ]
          },
          "metadata": {
            "tags": []
          },
          "execution_count": 12
        }
      ]
    },
    {
      "cell_type": "markdown",
      "metadata": {
        "id": "E8p41y3NmLM6"
      },
      "source": [
        "The ability to concisely apply regular expressions across ``Series`` or ``Dataframe`` entries opens up many possibilities for analysis and cleaning of data."
      ]
    },
    {
      "cell_type": "markdown",
      "metadata": {
        "id": "ncx5UvHGmLM7"
      },
      "source": [
        "### Miscellaneous methods\n",
        "Finally, there are some miscellaneous methods that enable other convenient operations:\n",
        "\n",
        "| Method | Description |\n",
        "|--------|-------------|\n",
        "| ``get()`` | Index each element |\n",
        "| ``slice()`` | Slice each element|\n",
        "| ``slice_replace()`` | Replace slice in each element with passed value|\n",
        "| ``cat()``      | Concatenate strings|\n",
        "| ``repeat()`` | Repeat values |\n",
        "| ``normalize()`` | Return Unicode form of string |\n",
        "| ``pad()`` | Add whitespace to left, right, or both sides of strings|\n",
        "| ``wrap()`` | Split long strings into lines with length less than a given width|\n",
        "| ``join()`` | Join strings in each element of the Series with passed separator|\n",
        "| ``get_dummies()`` | extract dummy variables as a dataframe |"
      ]
    },
    {
      "cell_type": "markdown",
      "metadata": {
        "id": "lqyJMrU-mLM8"
      },
      "source": [
        "#### Vectorized item access and slicing\n",
        "\n",
        "The ``get()`` and ``slice()`` operations, in particular, enable vectorized element access from each array.\n",
        "For example, we can get a slice of the first three characters of each array using ``str.slice(0, 3)``.\n",
        "Note that this behavior is also available through Python's normal indexing syntax–for example, ``df.str.slice(0, 3)`` is equivalent to ``df.str[0:3]``:"
      ]
    },
    {
      "cell_type": "code",
      "metadata": {
        "id": "B-L_p9iTmLM-",
        "outputId": "f0d1bd17-ba64-42be-8799-7031b48f0a2c"
      },
      "source": [
        "monte.str[0:3]"
      ],
      "execution_count": null,
      "outputs": [
        {
          "output_type": "execute_result",
          "data": {
            "text/plain": [
              "0    Gra\n",
              "1    Joh\n",
              "2    Ter\n",
              "3    Eri\n",
              "4    Ter\n",
              "5    Mic\n",
              "dtype: object"
            ]
          },
          "metadata": {
            "tags": []
          },
          "execution_count": 13
        }
      ]
    },
    {
      "cell_type": "markdown",
      "metadata": {
        "id": "EoNSgS1dmLM-"
      },
      "source": [
        "Indexing via ``df.str.get(i)`` and ``df.str[i]`` is likewise similar.\n",
        "\n",
        "These ``get()`` and ``slice()`` methods also let you access elements of arrays returned by ``split()``.\n",
        "For example, to extract the last name of each entry, we can combine ``split()`` and ``get()``:"
      ]
    },
    {
      "cell_type": "code",
      "metadata": {
        "id": "MwaEDb4AmLM_",
        "outputId": "b42ec46d-236c-4467-c885-059293cd3c96"
      },
      "source": [
        "monte.str.split().str.get(-1)"
      ],
      "execution_count": null,
      "outputs": [
        {
          "output_type": "execute_result",
          "data": {
            "text/plain": [
              "0    Chapman\n",
              "1     Cleese\n",
              "2    Gilliam\n",
              "3       Idle\n",
              "4      Jones\n",
              "5      Palin\n",
              "dtype: object"
            ]
          },
          "metadata": {
            "tags": []
          },
          "execution_count": 14
        }
      ]
    },
    {
      "cell_type": "markdown",
      "metadata": {
        "id": "YYgHtw87mLM_"
      },
      "source": [
        "#### Indicator variables\n",
        "\n",
        "Another method that requires a bit of extra explanation is the ``get_dummies()`` method.\n",
        "This is useful when your data has a column containing some sort of coded indicator.\n",
        "For example, we might have a dataset that contains information in the form of codes, such as A=\"born in America,\" B=\"born in the United Kingdom,\" C=\"likes cheese,\" D=\"likes spam\":"
      ]
    },
    {
      "cell_type": "code",
      "metadata": {
        "id": "iG-AtmAJmLNA",
        "outputId": "6f8076ee-7e62-4781-e26a-ca9f5a88fd56"
      },
      "source": [
        "full_monte = pd.DataFrame({'name': monte,\n",
        "                           'info': ['B|C|D', 'B|D', 'A|C',\n",
        "                                    'B|D', 'B|C', 'B|C|D']})\n",
        "full_monte"
      ],
      "execution_count": null,
      "outputs": [
        {
          "output_type": "execute_result",
          "data": {
            "text/html": [
              "<div>\n",
              "<table border=\"1\" class=\"dataframe\">\n",
              "  <thead>\n",
              "    <tr style=\"text-align: right;\">\n",
              "      <th></th>\n",
              "      <th>info</th>\n",
              "      <th>name</th>\n",
              "    </tr>\n",
              "  </thead>\n",
              "  <tbody>\n",
              "    <tr>\n",
              "      <th>0</th>\n",
              "      <td>B|C|D</td>\n",
              "      <td>Graham Chapman</td>\n",
              "    </tr>\n",
              "    <tr>\n",
              "      <th>1</th>\n",
              "      <td>B|D</td>\n",
              "      <td>John Cleese</td>\n",
              "    </tr>\n",
              "    <tr>\n",
              "      <th>2</th>\n",
              "      <td>A|C</td>\n",
              "      <td>Terry Gilliam</td>\n",
              "    </tr>\n",
              "    <tr>\n",
              "      <th>3</th>\n",
              "      <td>B|D</td>\n",
              "      <td>Eric Idle</td>\n",
              "    </tr>\n",
              "    <tr>\n",
              "      <th>4</th>\n",
              "      <td>B|C</td>\n",
              "      <td>Terry Jones</td>\n",
              "    </tr>\n",
              "    <tr>\n",
              "      <th>5</th>\n",
              "      <td>B|C|D</td>\n",
              "      <td>Michael Palin</td>\n",
              "    </tr>\n",
              "  </tbody>\n",
              "</table>\n",
              "</div>"
            ],
            "text/plain": [
              "    info            name\n",
              "0  B|C|D  Graham Chapman\n",
              "1    B|D     John Cleese\n",
              "2    A|C   Terry Gilliam\n",
              "3    B|D       Eric Idle\n",
              "4    B|C     Terry Jones\n",
              "5  B|C|D   Michael Palin"
            ]
          },
          "metadata": {
            "tags": []
          },
          "execution_count": 15
        }
      ]
    },
    {
      "cell_type": "markdown",
      "metadata": {
        "id": "n-z4twiymLNA"
      },
      "source": [
        "The ``get_dummies()`` routine lets you quickly split-out these indicator variables into a ``DataFrame``:"
      ]
    },
    {
      "cell_type": "code",
      "metadata": {
        "id": "3S3JS_txmLNA",
        "outputId": "d39e14ce-e56c-419c-fd39-9aa2a3c3ee60"
      },
      "source": [
        "full_monte['info'].str.get_dummies('|')"
      ],
      "execution_count": null,
      "outputs": [
        {
          "output_type": "execute_result",
          "data": {
            "text/html": [
              "<div>\n",
              "<table border=\"1\" class=\"dataframe\">\n",
              "  <thead>\n",
              "    <tr style=\"text-align: right;\">\n",
              "      <th></th>\n",
              "      <th>A</th>\n",
              "      <th>B</th>\n",
              "      <th>C</th>\n",
              "      <th>D</th>\n",
              "    </tr>\n",
              "  </thead>\n",
              "  <tbody>\n",
              "    <tr>\n",
              "      <th>0</th>\n",
              "      <td>0</td>\n",
              "      <td>1</td>\n",
              "      <td>1</td>\n",
              "      <td>1</td>\n",
              "    </tr>\n",
              "    <tr>\n",
              "      <th>1</th>\n",
              "      <td>0</td>\n",
              "      <td>1</td>\n",
              "      <td>0</td>\n",
              "      <td>1</td>\n",
              "    </tr>\n",
              "    <tr>\n",
              "      <th>2</th>\n",
              "      <td>1</td>\n",
              "      <td>0</td>\n",
              "      <td>1</td>\n",
              "      <td>0</td>\n",
              "    </tr>\n",
              "    <tr>\n",
              "      <th>3</th>\n",
              "      <td>0</td>\n",
              "      <td>1</td>\n",
              "      <td>0</td>\n",
              "      <td>1</td>\n",
              "    </tr>\n",
              "    <tr>\n",
              "      <th>4</th>\n",
              "      <td>0</td>\n",
              "      <td>1</td>\n",
              "      <td>1</td>\n",
              "      <td>0</td>\n",
              "    </tr>\n",
              "    <tr>\n",
              "      <th>5</th>\n",
              "      <td>0</td>\n",
              "      <td>1</td>\n",
              "      <td>1</td>\n",
              "      <td>1</td>\n",
              "    </tr>\n",
              "  </tbody>\n",
              "</table>\n",
              "</div>"
            ],
            "text/plain": [
              "   A  B  C  D\n",
              "0  0  1  1  1\n",
              "1  0  1  0  1\n",
              "2  1  0  1  0\n",
              "3  0  1  0  1\n",
              "4  0  1  1  0\n",
              "5  0  1  1  1"
            ]
          },
          "metadata": {
            "tags": []
          },
          "execution_count": 16
        }
      ]
    },
    {
      "cell_type": "markdown",
      "metadata": {
        "id": "aEq4hXyhmLNB"
      },
      "source": [
        "With these operations as building blocks, you can construct an endless range of string processing procedures when cleaning your data.\n",
        "\n",
        "We won't dive further into these methods here, but I encourage you to read through [\"Working with Text Data\"](http://pandas.pydata.org/pandas-docs/stable/text.html) in the Pandas online documentation, or to refer to the resources listed in [Further Resources](03.13-Further-Resources.ipynb)."
      ]
    },
    {
      "cell_type": "markdown",
      "metadata": {
        "id": "0f33mvZCmLNC"
      },
      "source": [
        "## Example: Recipe Database\n",
        "\n",
        "These vectorized string operations become most useful in the process of cleaning up messy, real-world data.\n",
        "Here I'll walk through an example of that, using an open recipe database compiled from various sources on the Web.\n",
        "Our goal will be to parse the recipe data into ingredient lists, so we can quickly find a recipe based on some ingredients we have on hand.\n",
        "\n",
        "The scripts used to compile this can be found at https://github.com/fictivekin/openrecipes, and the link to the current version of the database is found there as well.\n",
        "\n",
        "As of Spring 2016, this database is about 30 MB, and can be downloaded and unzipped with these commands:"
      ]
    },
    {
      "cell_type": "code",
      "metadata": {
        "id": "xiB6CEPtmLNC"
      },
      "source": [
        "# !curl -O http://openrecipes.s3.amazonaws.com/recipeitems-latest.json.gz\n",
        "# !gunzip recipeitems-latest.json.gz"
      ],
      "execution_count": null,
      "outputs": []
    },
    {
      "cell_type": "markdown",
      "metadata": {
        "id": "kwI3qjV6mLNC"
      },
      "source": [
        "The database is in JSON format, so we will try ``pd.read_json`` to read it:"
      ]
    },
    {
      "cell_type": "code",
      "metadata": {
        "id": "GIYDYNjmmLND",
        "outputId": "89e28c16-542d-46ff-eecc-0f7e354d3a70"
      },
      "source": [
        "try:\n",
        "    recipes = pd.read_json('recipeitems-latest.json')\n",
        "except ValueError as e:\n",
        "    print(\"ValueError:\", e)"
      ],
      "execution_count": null,
      "outputs": [
        {
          "output_type": "stream",
          "text": [
            "ValueError: Trailing data\n"
          ],
          "name": "stdout"
        }
      ]
    },
    {
      "cell_type": "markdown",
      "metadata": {
        "id": "2muBSbP9mLND"
      },
      "source": [
        "Oops! We get a ``ValueError`` mentioning that there is \"trailing data.\"\n",
        "Searching for the text of this error on the Internet, it seems that it's due to using a file in which *each line* is itself a valid JSON, but the full file is not.\n",
        "Let's check if this interpretation is true:"
      ]
    },
    {
      "cell_type": "code",
      "metadata": {
        "id": "Fh6GOfCKmLND",
        "outputId": "b17d870c-a96d-4375-a6db-65df0745f3f2"
      },
      "source": [
        "with open('recipeitems-latest.json') as f:\n",
        "    line = f.readline()\n",
        "pd.read_json(line).shape"
      ],
      "execution_count": null,
      "outputs": [
        {
          "output_type": "execute_result",
          "data": {
            "text/plain": [
              "(2, 12)"
            ]
          },
          "metadata": {
            "tags": []
          },
          "execution_count": 19
        }
      ]
    },
    {
      "cell_type": "markdown",
      "metadata": {
        "id": "OGXvyZfjmLND"
      },
      "source": [
        "Yes, apparently each line is a valid JSON, so we'll need to string them together.\n",
        "One way we can do this is to actually construct a string representation containing all these JSON entries, and then load the whole thing with ``pd.read_json``:"
      ]
    },
    {
      "cell_type": "code",
      "metadata": {
        "collapsed": true,
        "id": "f2l2IohymLNE"
      },
      "source": [
        "# read the entire file into a Python array\n",
        "with open('recipeitems-latest.json', 'r') as f:\n",
        "    # Extract each line\n",
        "    data = (line.strip() for line in f)\n",
        "    # Reformat so each line is the element of a list\n",
        "    data_json = \"[{0}]\".format(','.join(data))\n",
        "# read the result as a JSON\n",
        "recipes = pd.read_json(data_json)"
      ],
      "execution_count": null,
      "outputs": []
    },
    {
      "cell_type": "code",
      "metadata": {
        "id": "kb-soiD-mLNE",
        "outputId": "43adcd4a-64ac-4465-9831-bc4f95881ccf"
      },
      "source": [
        "recipes.shape"
      ],
      "execution_count": null,
      "outputs": [
        {
          "output_type": "execute_result",
          "data": {
            "text/plain": [
              "(173278, 17)"
            ]
          },
          "metadata": {
            "tags": []
          },
          "execution_count": 21
        }
      ]
    },
    {
      "cell_type": "markdown",
      "metadata": {
        "id": "EeLqH9eMmLNE"
      },
      "source": [
        "We see there are nearly 200,000 recipes, and 17 columns.\n",
        "Let's take a look at one row to see what we have:"
      ]
    },
    {
      "cell_type": "code",
      "metadata": {
        "id": "SzgVoyqamLNE",
        "outputId": "e6dbfc0f-6654-4ae4-9548-09dc079effde"
      },
      "source": [
        "recipes.iloc[0]"
      ],
      "execution_count": null,
      "outputs": [
        {
          "output_type": "execute_result",
          "data": {
            "text/plain": [
              "_id                                {'$oid': '5160756b96cc62079cc2db15'}\n",
              "cookTime                                                          PT30M\n",
              "creator                                                             NaN\n",
              "dateModified                                                        NaN\n",
              "datePublished                                                2013-03-11\n",
              "description           Late Saturday afternoon, after Marlboro Man ha...\n",
              "image                 http://static.thepioneerwoman.com/cooking/file...\n",
              "ingredients           Biscuits\\n3 cups All-purpose Flour\\n2 Tablespo...\n",
              "name                                    Drop Biscuits and Sausage Gravy\n",
              "prepTime                                                          PT10M\n",
              "recipeCategory                                                      NaN\n",
              "recipeInstructions                                                  NaN\n",
              "recipeYield                                                          12\n",
              "source                                                  thepioneerwoman\n",
              "totalTime                                                           NaN\n",
              "ts                                             {'$date': 1365276011104}\n",
              "url                   http://thepioneerwoman.com/cooking/2013/03/dro...\n",
              "Name: 0, dtype: object"
            ]
          },
          "metadata": {
            "tags": []
          },
          "execution_count": 22
        }
      ]
    },
    {
      "cell_type": "markdown",
      "metadata": {
        "id": "Uh9KMa1CmLNE"
      },
      "source": [
        "There is a lot of information there, but much of it is in a very messy form, as is typical of data scraped from the Web.\n",
        "In particular, the ingredient list is in string format; we're going to have to carefully extract the information we're interested in.\n",
        "Let's start by taking a closer look at the ingredients:"
      ]
    },
    {
      "cell_type": "code",
      "metadata": {
        "id": "DLrOrf7ImLNF",
        "outputId": "f9f882ba-35b4-4a7c-e092-71ef2e235ef3"
      },
      "source": [
        "recipes.ingredients.str.len().describe()"
      ],
      "execution_count": null,
      "outputs": [
        {
          "output_type": "execute_result",
          "data": {
            "text/plain": [
              "count    173278.000000\n",
              "mean        244.617926\n",
              "std         146.705285\n",
              "min           0.000000\n",
              "25%         147.000000\n",
              "50%         221.000000\n",
              "75%         314.000000\n",
              "max        9067.000000\n",
              "Name: ingredients, dtype: float64"
            ]
          },
          "metadata": {
            "tags": []
          },
          "execution_count": 23
        }
      ]
    },
    {
      "cell_type": "markdown",
      "metadata": {
        "id": "Y-GybajomLNF"
      },
      "source": [
        "The ingredient lists average 250 characters long, with a minimum of 0 and a maximum of nearly 10,000 characters!\n",
        "\n",
        "Just out of curiousity, let's see which recipe has the longest ingredient list:"
      ]
    },
    {
      "cell_type": "code",
      "metadata": {
        "id": "Dhk6rUEOmLNF",
        "outputId": "7d4dbe10-5c16-449d-e64e-9fcab067a722"
      },
      "source": [
        "recipes.name[np.argmax(recipes.ingredients.str.len())]"
      ],
      "execution_count": null,
      "outputs": [
        {
          "output_type": "execute_result",
          "data": {
            "text/plain": [
              "'Carrot Pineapple Spice &amp; Brownie Layer Cake with Whipped Cream &amp; Cream Cheese Frosting and Marzipan Carrots'"
            ]
          },
          "metadata": {
            "tags": []
          },
          "execution_count": 24
        }
      ]
    },
    {
      "cell_type": "markdown",
      "metadata": {
        "id": "Y8V-woS1mLNF"
      },
      "source": [
        "That certainly looks like an involved recipe.\n",
        "\n",
        "We can do other aggregate explorations; for example, let's see how many of the recipes are for breakfast food:"
      ]
    },
    {
      "cell_type": "code",
      "metadata": {
        "id": "oV8TX-1zmLNF",
        "outputId": "a799bce3-b6c0-4349-c307-402d45c56eab"
      },
      "source": [
        "recipes.description.str.contains('[Bb]reakfast').sum()"
      ],
      "execution_count": null,
      "outputs": [
        {
          "output_type": "execute_result",
          "data": {
            "text/plain": [
              "3524"
            ]
          },
          "metadata": {
            "tags": []
          },
          "execution_count": 25
        }
      ]
    },
    {
      "cell_type": "markdown",
      "metadata": {
        "id": "R_hvs2scmLNF"
      },
      "source": [
        "Or how many of the recipes list cinnamon as an ingredient:"
      ]
    },
    {
      "cell_type": "code",
      "metadata": {
        "id": "pZIjm6u3mLNG",
        "outputId": "791d26f2-9bcc-4bf5-c8cb-3e91d0199f55"
      },
      "source": [
        "recipes.ingredients.str.contains('[Cc]innamon').sum()"
      ],
      "execution_count": null,
      "outputs": [
        {
          "output_type": "execute_result",
          "data": {
            "text/plain": [
              "10526"
            ]
          },
          "metadata": {
            "tags": []
          },
          "execution_count": 26
        }
      ]
    },
    {
      "cell_type": "markdown",
      "metadata": {
        "id": "h2BE1r-amLNG"
      },
      "source": [
        "We could even look to see whether any recipes misspell the ingredient as \"cinamon\":"
      ]
    },
    {
      "cell_type": "code",
      "metadata": {
        "id": "3so9_v_KmLNG",
        "outputId": "dbb209e8-e004-4230-978f-fa089ce22ac0"
      },
      "source": [
        "recipes.ingredients.str.contains('[Cc]inamon').sum()"
      ],
      "execution_count": null,
      "outputs": [
        {
          "output_type": "execute_result",
          "data": {
            "text/plain": [
              "11"
            ]
          },
          "metadata": {
            "tags": []
          },
          "execution_count": 27
        }
      ]
    },
    {
      "cell_type": "markdown",
      "metadata": {
        "id": "bAnEpG-VmLNG"
      },
      "source": [
        "This is the type of essential data exploration that is possible with Pandas string tools.\n",
        "It is data munging like this that Python really excels at."
      ]
    },
    {
      "cell_type": "markdown",
      "metadata": {
        "id": "kmkxH6-CmLNG"
      },
      "source": [
        "### A simple recipe recommender\n",
        "\n",
        "Let's go a bit further, and start working on a simple recipe recommendation system: given a list of ingredients, find a recipe that uses all those ingredients.\n",
        "While conceptually straightforward, the task is complicated by the heterogeneity of the data: there is no easy operation, for example, to extract a clean list of ingredients from each row.\n",
        "So we will cheat a bit: we'll start with a list of common ingredients, and simply search to see whether they are in each recipe's ingredient list.\n",
        "For simplicity, let's just stick with herbs and spices for the time being:"
      ]
    },
    {
      "cell_type": "code",
      "metadata": {
        "collapsed": true,
        "id": "A-zNilpsmLNG"
      },
      "source": [
        "spice_list = ['salt', 'pepper', 'oregano', 'sage', 'parsley',\n",
        "              'rosemary', 'tarragon', 'thyme', 'paprika', 'cumin']"
      ],
      "execution_count": null,
      "outputs": []
    },
    {
      "cell_type": "markdown",
      "metadata": {
        "id": "oNudFkmamLNG"
      },
      "source": [
        "We can then build a Boolean ``DataFrame`` consisting of True and False values, indicating whether this ingredient appears in the list:"
      ]
    },
    {
      "cell_type": "code",
      "metadata": {
        "id": "5Pyi4pJ6mLNH",
        "outputId": "28a9a8e5-2937-4547-ddbf-c774e9118c76"
      },
      "source": [
        "import re\n",
        "spice_df = pd.DataFrame(dict((spice, recipes.ingredients.str.contains(spice, re.IGNORECASE))\n",
        "                             for spice in spice_list))\n",
        "spice_df.head()"
      ],
      "execution_count": null,
      "outputs": [
        {
          "output_type": "execute_result",
          "data": {
            "text/html": [
              "<div>\n",
              "<table border=\"1\" class=\"dataframe\">\n",
              "  <thead>\n",
              "    <tr style=\"text-align: right;\">\n",
              "      <th></th>\n",
              "      <th>cumin</th>\n",
              "      <th>oregano</th>\n",
              "      <th>paprika</th>\n",
              "      <th>parsley</th>\n",
              "      <th>pepper</th>\n",
              "      <th>rosemary</th>\n",
              "      <th>sage</th>\n",
              "      <th>salt</th>\n",
              "      <th>tarragon</th>\n",
              "      <th>thyme</th>\n",
              "    </tr>\n",
              "  </thead>\n",
              "  <tbody>\n",
              "    <tr>\n",
              "      <th>0</th>\n",
              "      <td>False</td>\n",
              "      <td>False</td>\n",
              "      <td>False</td>\n",
              "      <td>False</td>\n",
              "      <td>False</td>\n",
              "      <td>False</td>\n",
              "      <td>True</td>\n",
              "      <td>False</td>\n",
              "      <td>False</td>\n",
              "      <td>False</td>\n",
              "    </tr>\n",
              "    <tr>\n",
              "      <th>1</th>\n",
              "      <td>False</td>\n",
              "      <td>False</td>\n",
              "      <td>False</td>\n",
              "      <td>False</td>\n",
              "      <td>False</td>\n",
              "      <td>False</td>\n",
              "      <td>False</td>\n",
              "      <td>False</td>\n",
              "      <td>False</td>\n",
              "      <td>False</td>\n",
              "    </tr>\n",
              "    <tr>\n",
              "      <th>2</th>\n",
              "      <td>True</td>\n",
              "      <td>False</td>\n",
              "      <td>False</td>\n",
              "      <td>False</td>\n",
              "      <td>True</td>\n",
              "      <td>False</td>\n",
              "      <td>False</td>\n",
              "      <td>True</td>\n",
              "      <td>False</td>\n",
              "      <td>False</td>\n",
              "    </tr>\n",
              "    <tr>\n",
              "      <th>3</th>\n",
              "      <td>False</td>\n",
              "      <td>False</td>\n",
              "      <td>False</td>\n",
              "      <td>False</td>\n",
              "      <td>False</td>\n",
              "      <td>False</td>\n",
              "      <td>False</td>\n",
              "      <td>False</td>\n",
              "      <td>False</td>\n",
              "      <td>False</td>\n",
              "    </tr>\n",
              "    <tr>\n",
              "      <th>4</th>\n",
              "      <td>False</td>\n",
              "      <td>False</td>\n",
              "      <td>False</td>\n",
              "      <td>False</td>\n",
              "      <td>False</td>\n",
              "      <td>False</td>\n",
              "      <td>False</td>\n",
              "      <td>False</td>\n",
              "      <td>False</td>\n",
              "      <td>False</td>\n",
              "    </tr>\n",
              "  </tbody>\n",
              "</table>\n",
              "</div>"
            ],
            "text/plain": [
              "   cumin oregano paprika parsley pepper rosemary   sage   salt tarragon  thyme\n",
              "0  False   False   False   False  False    False   True  False    False  False\n",
              "1  False   False   False   False  False    False  False  False    False  False\n",
              "2   True   False   False   False   True    False  False   True    False  False\n",
              "3  False   False   False   False  False    False  False  False    False  False\n",
              "4  False   False   False   False  False    False  False  False    False  False"
            ]
          },
          "metadata": {
            "tags": []
          },
          "execution_count": 29
        }
      ]
    },
    {
      "cell_type": "markdown",
      "metadata": {
        "id": "_y0BJa1zmLNH"
      },
      "source": [
        "Now, as an example, let's say we'd like to find a recipe that uses parsley, paprika, and tarragon.\n",
        "We can compute this very quickly using the ``query()`` method of ``DataFrame``s, discussed in [High-Performance Pandas: ``eval()`` and ``query()``](03.12-Performance-Eval-and-Query.ipynb):"
      ]
    },
    {
      "cell_type": "code",
      "metadata": {
        "id": "NGeUR3CgmLNH",
        "outputId": "9ba15eb4-dcbb-45fa-a4c5-7dc777891c82"
      },
      "source": [
        "selection = spice_df.query('parsley & paprika & tarragon')\n",
        "len(selection)"
      ],
      "execution_count": null,
      "outputs": [
        {
          "output_type": "execute_result",
          "data": {
            "text/plain": [
              "10"
            ]
          },
          "metadata": {
            "tags": []
          },
          "execution_count": 30
        }
      ]
    },
    {
      "cell_type": "markdown",
      "metadata": {
        "id": "_6SdFLuqmLNH"
      },
      "source": [
        "We find only 10 recipes with this combination; let's use the index returned by this selection to discover the names of the recipes that have this combination:"
      ]
    },
    {
      "cell_type": "code",
      "metadata": {
        "id": "b7XS8EJnmLNH",
        "outputId": "9d9d5686-a7f1-4b80-a601-298c41379078"
      },
      "source": [
        "recipes.name[selection.index]"
      ],
      "execution_count": null,
      "outputs": [
        {
          "output_type": "execute_result",
          "data": {
            "text/plain": [
              "2069      All cremat with a Little Gem, dandelion and wa...\n",
              "74964                         Lobster with Thermidor butter\n",
              "93768      Burton's Southern Fried Chicken with White Gravy\n",
              "113926                     Mijo's Slow Cooker Shredded Beef\n",
              "137686                     Asparagus Soup with Poached Eggs\n",
              "140530                                 Fried Oyster Po’boys\n",
              "158475                Lamb shank tagine with herb tabbouleh\n",
              "158486                 Southern fried chicken in buttermilk\n",
              "163175            Fried Chicken Sliders with Pickles + Slaw\n",
              "165243                        Bar Tartine Cauliflower Salad\n",
              "Name: name, dtype: object"
            ]
          },
          "metadata": {
            "tags": []
          },
          "execution_count": 31
        }
      ]
    },
    {
      "cell_type": "markdown",
      "metadata": {
        "id": "UJwz4JW1mLNI"
      },
      "source": [
        "Now that we have narrowed down our recipe selection by a factor of almost 20,000, we are in a position to make a more informed decision about what we'd like to cook for dinner."
      ]
    },
    {
      "cell_type": "markdown",
      "metadata": {
        "id": "ViftGUg7mLNI"
      },
      "source": [
        "### Going further with recipes\n",
        "\n",
        "Hopefully this example has given you a bit of a flavor (ba-dum!) for the types of data cleaning operations that are efficiently enabled by Pandas string methods.\n",
        "Of course, building a very robust recipe recommendation system would require a *lot* more work!\n",
        "Extracting full ingredient lists from each recipe would be an important piece of the task; unfortunately, the wide variety of formats used makes this a relatively time-consuming process.\n",
        "This points to the truism that in data science, cleaning and munging of real-world data often comprises the majority of the work, and Pandas provides the tools that can help you do this efficiently."
      ]
    },
    {
      "cell_type": "markdown",
      "metadata": {
        "id": "no8CJ8jAmLNI"
      },
      "source": [
        "<!--NAVIGATION-->\n",
        "< [Pivot Tables](03.09-Pivot-Tables.ipynb) | [Contents](Index.ipynb) | [Working with Time Series](03.11-Working-with-Time-Series.ipynb) >\n",
        "\n",
        "<a href=\"https://colab.research.google.com/github/jakevdp/PythonDataScienceHandbook/blob/master/notebooks/03.10-Working-With-Strings.ipynb\"><img align=\"left\" src=\"https://colab.research.google.com/assets/colab-badge.svg\" alt=\"Open in Colab\" title=\"Open and Execute in Google Colaboratory\"></a>\n"
      ]
    }
  ]
}