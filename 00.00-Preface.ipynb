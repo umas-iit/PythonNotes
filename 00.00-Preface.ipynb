{
  "nbformat": 4,
  "nbformat_minor": 0,
  "metadata": {
    "anaconda-cloud": {},
    "kernelspec": {
      "display_name": "Python 3",
      "language": "python",
      "name": "python3"
    },
    "language_info": {
      "codemirror_mode": {
        "name": "ipython",
        "version": 3
      },
      "file_extension": ".py",
      "mimetype": "text/x-python",
      "name": "python",
      "nbconvert_exporter": "python",
      "pygments_lexer": "ipython3",
      "version": "3.5.1"
    },
    "colab": {
      "name": "00.00-Preface.ipynb",
      "provenance": [],
      "include_colab_link": true
    }
  },
  "cells": [
    {
      "cell_type": "markdown",
      "metadata": {
        "id": "view-in-github",
        "colab_type": "text"
      },
      "source": [
        "<a href=\"https://colab.research.google.com/github/umas-iit/PythonNotes/blob/main/00.00-Preface.ipynb\" target=\"_parent\"><img src=\"https://colab.research.google.com/assets/colab-badge.svg\" alt=\"Open In Colab\"/></a>"
      ]
    },
    {
      "cell_type": "markdown",
      "metadata": {
        "id": "G3QSv7R3X2Gt"
      },
      "source": [
        "# Preface"
      ]
    },
    {
      "cell_type": "markdown",
      "metadata": {
        "id": "aIcxRnm_X2Gu"
      },
      "source": [
        "## What Is Data Science?\n",
        "\n",
        "It includes the cross-disciplinary set of skills that are becoming increasingly important in many applications across industry and academia.\n",
        "The best extisting definition of data science is illustrated by Drew Conway's Data Science Venn Diagram, first published on his blog in September 2010:"
      ]
    },
    {
      "cell_type": "markdown",
      "metadata": {
        "id": "mXiUApwIX2Gv"
      },
      "source": [
        "![Data Science Venn Diagram](https://github.com/jakevdp/PythonDataScienceHandbook/blob/master/notebooks/figures/Data_Science_VD.png?raw=1)\n",
        "\n",
        "<small>(Source: [Drew Conway](http://drewconway.com/zia/2013/3/26/the-data-science-venn-diagram). Used by permission.)</small>"
      ]
    },
    {
      "cell_type": "markdown",
      "metadata": {
        "id": "m8jRpSBcX2Gv"
      },
      "source": [
        "this diagram captures the essence of what I think people mean when they say \"data science\": it is fundamentally an *interdisciplinary* subject.\n",
        "Data science comprises three distinct and overlapping areas: the skills of a *statistician* who knows how to model and summarize datasets (which are growing ever larger); the skills of a *computer scientist* who can design and use algorithms to efficiently store, process, and visualize this data; and the *domain expertise*—what we might think of as \"classical\" training in a subject—necessary both to formulate the right questions and to put their answers in context.\n",
        "\n",
        "data science not as a new domain of knowledge to learn, it is a  new set of skills that one can apply within their current area of expertise.\n",
        "Aea of interest may include election results, forecasting stock returns, optimizing online ad clicks, identifying microorganisms in microscope photos, seeking new classes of astronomical objects, or working with data in any other field.\n"
      ]
    },
    {
      "cell_type": "markdown",
      "metadata": {
        "id": "YW_aO8NwX2Gw"
      },
      "source": [
        "## Why Python?\n",
        "\n",
        "Python has emerged over the last couple decades as a first-class tool for scientific computing tasks, including the analysis and visualization of large datasets.\n",
        "This may have come as a surprise to early proponents of the Python language: the language itself was not specifically designed with data analysis or scientific computing in mind.\n",
        "The usefulness of Python for data science stems primarily from the large and active ecosystem of third-party packages: *NumPy* for manipulation of homogeneous array-based data, *Pandas* for manipulation of heterogeneous and labeled data, *SciPy* for common scientific computing tasks, *Matplotlib* for publication-quality visualizations, *IPython* for interactive execution and sharing of code, *Scikit-Learn* for machine learning, and many more tools that will be mentioned in the following pages.\n",
        "\n",
        "If you are looking for a guide to the Python language itself, I would suggest the sister project to this book, \"[A Whirlwind Tour of the Python Language](https://github.com/jakevdp/WhirlwindTourOfPython)\".\n",
        "This short report provides a tour of the essential features of the Python language, aimed at data scientists who already are familiar with one or more other programming languages."
      ]
    },
    {
      "cell_type": "markdown",
      "metadata": {
        "id": "yrUHIQPqX2Gx"
      },
      "source": [
        "### Python 2 vs Python 3\n",
        "\n",
        "This book uses the syntax of Python 3, which contains language enhancements that are not compatible with the 2.x series of Python.\n",
        "Though Python 3.0 was first released in 2008, adoption has been relatively slow, particularly in the scientific and web development communities.\n",
        "This is primarily because it took some time for many of the essential third-party packages and toolkits to be made compatible with the new language internals.\n",
        "Since early 2014, however, stable releases of the most important tools in the data science ecosystem have been fully compatible with both Python 2 and 3, and so this book will use the newer Python 3 syntax.\n",
        "However, the vast majority of code snippets in this book will also work without modification in Python 2: in cases where a Py2-incompatible syntax is used, I will make every effort to note it explicitly."
      ]
    },
    {
      "cell_type": "markdown",
      "metadata": {
        "id": "8F277gA3X2Gx"
      },
      "source": [
        "## Outline of the course\n",
        "\n",
        "It focuses on a particular package or tool that contributes a fundamental piece of the Python Data Sciece story.\n",
        "\n",
        "1. IPython and Jupyter: these packages provide the computational environment in which many Python-using data scientists work.\n",
        "2. NumPy: this library provides the ``ndarray`` for efficient storage and manipulation of dense data arrays in Python.\n",
        "3. Pandas: this library provides the ``DataFrame`` for efficient storage and manipulation of labeled/columnar data in Python.\n",
        "4. Matplotlib: this library provides capabilities for a flexible range of data visualizations in Python.\n",
        "5. Scikit-Learn: this library provides efficient & clean Python implementations of the most important and established machine learning algorithms.\n"
      ]
    },
    {
      "cell_type": "markdown",
      "metadata": {
        "id": "YsU6LWjqX2Gy"
      },
      "source": [
        ""
      ]
    },
    {
      "cell_type": "markdown",
      "metadata": {
        "id": "6uCupgUbX2Gy"
      },
      "source": [
        "## Installation Considerations\n",
        "\n",
        "Installing Python and the suite of libraries that enable scientific computing is straightforward . This section will outline some of the considerations when setting up your computer.\n",
        "\n",
        "Though there are various ways to install Python, the one I would suggest for use in data science is the Anaconda distribution, which works similarly whether you use Windows, Linux, or Mac OS X.\n",
        "The Anaconda distribution comes in two flavors:\n",
        "\n",
        "- [Miniconda](http://conda.pydata.org/miniconda.html) gives you the Python interpreter itself, along with a command-line tool called ``conda`` which operates as a cross-platform package manager geared toward Python packages, similar in spirit to the apt or yum tools that Linux users might be familiar with.\n",
        "\n",
        "- [Anaconda](https://www.continuum.io/downloads) includes both Python and conda, and additionally bundles a suite of other pre-installed packages geared toward scientific computing. Because of the size of this bundle, expect the installation to consume several gigabytes of disk space.\n",
        "\n",
        "Any of the packages included with Anaconda can also be installed manually on top of Miniconda; for this reason I suggest starting with Miniconda.\n",
        "\n",
        "To get started, download and install the Miniconda package–make sure to choose a version with Python 3–and then install the core packages used in this book:\n",
        "\n",
        "```\n",
        "[~]$ conda install numpy pandas scikit-learn matplotlib seaborn jupyter\n",
        "```\n",
        "\n",
        "Throughout the text, we will also make use of other more specialized tools in Python's scientific ecosystem; installation is usually as easy as typing **``conda install packagename``**.\n",
        "For more information on conda, including information about creating and using conda environments (which I would *highly* recommend), refer to [conda's online documentation](http://conda.pydata.org/docs/)."
      ]
    }
  ]
}